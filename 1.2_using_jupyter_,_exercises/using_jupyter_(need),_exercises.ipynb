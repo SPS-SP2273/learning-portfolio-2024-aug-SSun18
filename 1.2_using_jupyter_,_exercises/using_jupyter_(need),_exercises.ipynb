{
 "cells": [
  {
   "attachments": {},
   "cell_type": "markdown",
   "id": "123456",
   "metadata": {},
   "source": [
    "<div style=\"text-align:left;font-size:2em\"><span style=\"font-weight:bolder;font-size:1.25em\">SP2273 | Learning Portfolio</span><br><br><span style=\"font-weight:bold;color:darkred\">Using Jupyter (Need), Exercises</span></div>"
   ]
  },
  {
   "attachments": {},
   "cell_type": "markdown",
   "id": "080c9a5a",
   "metadata": {},
   "source": [
    "## 1 Quadratic Equations"
   ]
  },
  {
   "attachments": {},
   "cell_type": "markdown",
   "id": "9dae85e9",
   "metadata": {},
   "source": [
    "### Introduction"
   ]
  },
  {
   "cell_type": "markdown",
   "id": "b0ed8b98-f6c4-4ef7-8676-e088ebbf86fe",
   "metadata": {},
   "source": [
    "![](https://upload.wikimedia.org/wikipedia/commons/thumb/f/f8/Polynomialdeg2.svg/600px-Polynomialdeg2.svg.png)\n",
    "\n",
    "\n",
    "_(Image from the [<u>Wikipedia page on Quadratic equations<u>](https://en.wikipedia.org/wiki/Quadratic_equation))_\n",
    "\n",
    "\n",
    "The general form of a quadratic equation is:\n",
    "$$\n",
    "ax^{2}+bx+c=0\n",
    "$$"
   ]
  },
  {
   "attachments": {},
   "cell_type": "markdown",
   "id": "b26891ed",
   "metadata": {},
   "source": [
    "### Solutions"
   ]
  },
  {
   "cell_type": "markdown",
   "id": "342c8b26-4663-4f14-be57-3023d5340bd8",
   "metadata": {},
   "source": [
    "Provided $a \\ne 0$, we can use an elementary algebraic method called [<u>completing the square</u>](https://en.wikipedia.org/wiki/Completing_the_square) to show that a quadratic equation has the following solution:\n",
    "$$\n",
    "x=\\dfrac{-b \\pm \\sqrt{b^{2}-4ac}}{2a}\n",
    "$$"
   ]
  },
  {
   "attachments": {},
   "cell_type": "markdown",
   "id": "7ea3db3f",
   "metadata": {},
   "source": [
    "### Discriminant"
   ]
  },
  {
   "cell_type": "markdown",
   "id": "54335419-5d0c-43e9-ba3b-4e6187891d0d",
   "metadata": {},
   "source": [
    "The quantity $\\Delta=b^2-4ac$ is called the **discriminant** of the equation and decides the nature of its solutions. The table below shows the various possibilities. \n",
    "| **Discriminant**   | **Roots**                            |\n",
    "|--------------------|--------------------------------------|\n",
    "| $\\Delta=b^2-4ac=0$ | A single solution of $-b/(2a)$       |\n",
    "| $\\Delta=b^2-4ac>0$ | Two distinct solutions               |\n",
    "| $\\Delta=b^2-4ac<0$ | No real solutions; both are complex. |"
   ]
  },
  {
   "cell_type": "markdown",
   "id": "fc88d4b3-f8ef-4bac-b4d9-5dac5d1f059c",
   "metadata": {},
   "source": [
    "## Exercise 2 (In Your Own Words) \n",
    "\n",
    "1. A Git <b>repository</b> is a folder where my program/files are stored and can be accessed by users on the main branch.\n",
    "2. Git keeps track of changes in the files in our repository.\n",
    "3. **Commit** saves my local file changes on to my local Git repository.\n",
    "4. **Push** pushes my changes in my local Git repository to my online Git repository that is accessible by other users on the main branch.\n",
    "5. **Pull** copies changes from a user's forked repository into the main(parent) repository\n",
    "6. **GitHub** refers to the online program that keeps track of changes in online repositories while **GitHub Desktop** refers to the local application which serves as a link that facilitates pushes from the local files into the online copy of the repository."
   ]
  },
  {
   "cell_type": "markdown",
   "id": "7eeece82-84d0-4054-acbc-88adeb34ba79",
   "metadata": {},
   "source": [
    "## Exercise 3(A Matter of Statistics)\n",
    "The mean ($\\micro$), standard deviation ($\\sigma$), and Pearson correlation coefficient $\\mathcal{r}$ are important statistical parameters. Given variables $x_i$ and $y_i$ representing the $i$-th values in a dataset with $n$ pairs, use Markdown notation to write the equations for these parameters. \n",
    "\n",
    "Your equations should ideally look like the following. You might find [<u>this resource</u>](https://www.cmor-faculty.rice.edu/~heinken/latex/symbols.pdf) from Rice University useful. \n",
    "$$\n",
    "\\micro=\\dfrac{1}{n}\\sum_{i=1}^{n}x_i\n",
    "$$\n",
    "$$\n",
    "\\sigma=\\sqrt{\\dfrac{1}{n}\\sum_{i=1}^{n}(x_i-\\micro)^2}\n",
    "$$\n",
    "$$\n",
    "r=\\dfrac{\\sum_{i=1}^{n}(x_i-\\micro_X)(y_i-\\micro_Y)}{\\sqrt\\sum_{i=1}^{n}(x_i-\\micro_X)^2\\sum_{i=1}^{n}(y_i-\\micro_Y)^2}\n",
    "$$"
   ]
  }
 ],
 "metadata": {
  "kernelspec": {
   "display_name": "Python 3 (ipykernel)",
   "language": "python",
   "name": "python3"
  },
  "language_info": {
   "codemirror_mode": {
    "name": "ipython",
    "version": 3
   },
   "file_extension": ".py",
   "mimetype": "text/x-python",
   "name": "python",
   "nbconvert_exporter": "python",
   "pygments_lexer": "ipython3",
   "version": "3.12.3"
  },
  "toc": {
   "base_numbering": 1,
   "nav_menu": {},
   "number_sections": true,
   "sideBar": true,
   "skip_h1_title": false,
   "title_cell": "Table of Contents",
   "title_sidebar": "Contents",
   "toc_cell": false,
   "toc_position": {},
   "toc_section_display": true,
   "toc_window_display": false
  },
  "vscode": {
   "interpreter": {
    "hash": "31f2aee4e71d21fbe5cf8b01ff0e069b9275f58929596ceb00d14d90e3e16cd6"
   }
  }
 },
 "nbformat": 4,
 "nbformat_minor": 5
}
