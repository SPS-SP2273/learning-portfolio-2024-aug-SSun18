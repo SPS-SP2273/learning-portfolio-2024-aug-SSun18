{
 "cells": [
  {
   "attachments": {},
   "cell_type": "markdown",
   "id": "123456",
   "metadata": {},
   "source": [
    "<div style=\"text-align:left;font-size:2em\"><span style=\"font-weight:bolder;font-size:1.25em\">SP2273 | Learning Portfolio</span><br><br><span style=\"font-weight:bold;color:darkred\">Functions (Need) Exercises</span></div>"
   ]
  },
  {
   "cell_type": "markdown",
   "id": "53a9a1e9-3e24-4dc6-97c2-99993ce9e345",
   "metadata": {},
   "source": [
    "## Exercise 1"
   ]
  },
  {
   "cell_type": "markdown",
   "id": "0863199a-ff1d-4d6f-bc62-a4d7fbc3e42f",
   "metadata": {},
   "source": [
    "The **return** within the *if:* code block will exit the function if the *if* argument (*name == 'Batman'*) is true, preventing the following *return f'Hello {name}!'* from being rendered"
   ]
  },
  {
   "cell_type": "markdown",
   "id": "7e9297c9-d6a2-4a89-a906-24c041b82d07",
   "metadata": {},
   "source": [
    "## Exercise 2"
   ]
  },
  {
   "cell_type": "code",
   "execution_count": 17,
   "id": "d509a342-0d3e-4380-a6d5-c5412e05bd40",
   "metadata": {},
   "outputs": [],
   "source": [
    "def calculate_bmi(weight, height):\n",
    "    BMI = weight / (height ** 2)\n",
    "    if BMI < 18.5:\n",
    "        return 'Underweight'\n",
    "    elif 18.5 <= BMI < 25:\n",
    "        return 'Normal Weight'\n",
    "    elif 25 <= BMI < 30:\n",
    "        return 'OverWeight'\n",
    "    else:\n",
    "        return 'Obese'"
   ]
  },
  {
   "cell_type": "markdown",
   "id": "74fd7712-ec56-484e-8020-6bf0f578af8c",
   "metadata": {},
   "source": [
    "## Exercise 3"
   ]
  },
  {
   "cell_type": "code",
   "execution_count": 35,
   "id": "d1b062c1-8bdc-4fe4-94c3-62bc39684e9e",
   "metadata": {},
   "outputs": [],
   "source": [
    "def factorial(n):\n",
    "    res = 1\n",
    "    if n < 0:\n",
    "        return 'Undefined'\n",
    "    for i in range(1, n+1):\n",
    "        res *= i\n",
    "    return res"
   ]
  }
 ],
 "metadata": {
  "kernelspec": {
   "display_name": "Python 3 (ipykernel)",
   "language": "python",
   "name": "python3"
  },
  "language_info": {
   "codemirror_mode": {
    "name": "ipython",
    "version": 3
   },
   "file_extension": ".py",
   "mimetype": "text/x-python",
   "name": "python",
   "nbconvert_exporter": "python",
   "pygments_lexer": "ipython3",
   "version": "3.12.3"
  },
  "toc": {
   "base_numbering": 1,
   "nav_menu": {},
   "number_sections": true,
   "sideBar": true,
   "skip_h1_title": false,
   "title_cell": "Table of Contents",
   "title_sidebar": "Contents",
   "toc_cell": false,
   "toc_position": {},
   "toc_section_display": true,
   "toc_window_display": false
  },
  "vscode": {
   "interpreter": {
    "hash": "31f2aee4e71d21fbe5cf8b01ff0e069b9275f58929596ceb00d14d90e3e16cd6"
   }
  }
 },
 "nbformat": 4,
 "nbformat_minor": 5
}
