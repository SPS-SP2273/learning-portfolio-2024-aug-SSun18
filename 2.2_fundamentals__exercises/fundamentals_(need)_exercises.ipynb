{
 "cells": [
  {
   "attachments": {},
   "cell_type": "markdown",
   "id": "123456",
   "metadata": {},
   "source": [
    "<div style=\"text-align:left;font-size:2em\"><span style=\"font-weight:bolder;font-size:1.25em\">SP2273 | Learning Portfolio</span><br><br><span style=\"font-weight:bold;color:darkred\">Fundamentals (Need) Exercises</span></div>"
   ]
  },
  {
   "cell_type": "markdown",
   "id": "65599f99-d67d-4efe-9c17-d69545281234",
   "metadata": {},
   "source": [
    "### Exercise 1"
   ]
  },
  {
   "cell_type": "raw",
   "id": "ee811fdb-43ca-4953-8d35-de2eb0e9ee1e",
   "metadata": {},
   "source": [
    "1. print (*functions*)\n",
    "2. math\n",
    "3. arrays\n",
    "4. lack of requirement for brackets (can use indentations instead)\n",
    "5. loops\n",
    "6. *case sensitive*\n",
    "7. *Interprets cmds line by line sequentially*\n",
    "8. *comments* #as such\n",
    "9. *= allows assigning value to something. == asks the prog if something is equal (T/F)*\n",
    "10. *if/else*\n",
    "11. *print var / print string*\n",
    "12. *DIfferent uses of brackets*\n",
    "13. *importing packages for more functions*\n",
    "14. *the dot allows ownership*"
   ]
  },
  {
   "cell_type": "markdown",
   "id": "bb99ed71-e1ac-44c7-ad5e-e2e77c904b05",
   "metadata": {},
   "source": [
    "### Exercise 2"
   ]
  },
  {
   "cell_type": "code",
   "execution_count": 6,
   "id": "444f0965-d8b0-4546-bc89-4efb257074da",
   "metadata": {},
   "outputs": [
    {
     "name": "stdout",
     "output_type": "stream",
     "text": [
      "3 4 5\n"
     ]
    }
   ],
   "source": [
    "import math\n",
    "x, y = 3, 4\n",
    "z = math.sqrt(x**2 + y**2)\n",
    "z = int(z)\n",
    "print(x, y, z)"
   ]
  },
  {
   "cell_type": "markdown",
   "id": "c4260afd-bcf3-4b30-8df2-bc9abb6b2ee0",
   "metadata": {},
   "source": [
    "### Exercise 3"
   ]
  },
  {
   "cell_type": "markdown",
   "id": "a7f361ff-037e-40ae-9a89-420b4f4485fd",
   "metadata": {},
   "source": [
    "| **#** | **Term**     | **Description**                                                                                                                                            |\n",
    "|-------|--------------|------------------------------------------------------------------------------------------------------------------------------------------------------------|\n",
    "| 1     | Function     | Functions allow for you to process an input based on the code block that was defined under the function.                                                   |\n",
    "| 2     | Arguments    | Argument is the input to a function.                                                                                                                       |\n",
    "| 3     | Comments     | Comments allow you to write lines in the code that you do not wish the program to render.                                                                  |\n",
    "| 4     | Indentations | Indentations serve the role of brackets (from other lang) in python, to allow you to place a code within another code.                                     |\n",
    "| 5     | Packages     | Packages contain various pre-defined functions that you can utilise when you import them, so that we don't need to define these functions within our code. |\n",
    "| 6     | .            | Dot allows ownership.                                                                                                                                      |\n",
    "| 7     | :            | : is used when you wish to add a code block to a function (or define the function)                                                                         |\n",
    "| 8     | []           | This is used for lists                                                                                                                                     |\n",
    "| 9     | [[],[]]      | This is used for 2D lists                                                                                                                                  |\n",
    "| 10    | {}           | Allows one to store value in a key                                                                                                                         |"
   ]
  },
  {
   "cell_type": "markdown",
   "id": "33ca784d-b15e-495c-b201-1cfbd09fa720",
   "metadata": {},
   "source": [
    "### Exercise 4"
   ]
  },
  {
   "cell_type": "code",
   "execution_count": 12,
   "id": "66804815-a006-4ffa-b1c2-6e97152d5653",
   "metadata": {},
   "outputs": [
    {
     "data": {
      "text/plain": [
       "2.5"
      ]
     },
     "execution_count": 12,
     "metadata": {},
     "output_type": "execute_result"
    }
   ],
   "source": [
    "5/2  # Divide 5 by 2 resulting in 2.5"
   ]
  },
  {
   "cell_type": "code",
   "execution_count": 17,
   "id": "f5938377-dbf7-49dc-97c3-ea014e36004f",
   "metadata": {},
   "outputs": [
    {
     "data": {
      "text/plain": [
       "2"
      ]
     },
     "execution_count": 17,
     "metadata": {},
     "output_type": "execute_result"
    }
   ],
   "source": [
    "5//2 # Returns the integer value when you divide 5 by 2"
   ]
  },
  {
   "cell_type": "code",
   "execution_count": 14,
   "id": "9a92d069-c795-4db4-a12c-12f40a48e9d7",
   "metadata": {},
   "outputs": [
    {
     "data": {
      "text/plain": [
       "1"
      ]
     },
     "execution_count": 14,
     "metadata": {},
     "output_type": "execute_result"
    }
   ],
   "source": [
    "5%2 # Provides you the quotient when you divide 5 by 2. which is 1"
   ]
  }
 ],
 "metadata": {
  "kernelspec": {
   "display_name": "Python 3 (ipykernel)",
   "language": "python",
   "name": "python3"
  },
  "language_info": {
   "codemirror_mode": {
    "name": "ipython",
    "version": 3
   },
   "file_extension": ".py",
   "mimetype": "text/x-python",
   "name": "python",
   "nbconvert_exporter": "python",
   "pygments_lexer": "ipython3",
   "version": "3.12.3"
  },
  "toc": {
   "base_numbering": 1,
   "nav_menu": {},
   "number_sections": true,
   "sideBar": true,
   "skip_h1_title": false,
   "title_cell": "Table of Contents",
   "title_sidebar": "Contents",
   "toc_cell": false,
   "toc_position": {},
   "toc_section_display": true,
   "toc_window_display": false
  },
  "vscode": {
   "interpreter": {
    "hash": "31f2aee4e71d21fbe5cf8b01ff0e069b9275f58929596ceb00d14d90e3e16cd6"
   }
  }
 },
 "nbformat": 4,
 "nbformat_minor": 5
}
