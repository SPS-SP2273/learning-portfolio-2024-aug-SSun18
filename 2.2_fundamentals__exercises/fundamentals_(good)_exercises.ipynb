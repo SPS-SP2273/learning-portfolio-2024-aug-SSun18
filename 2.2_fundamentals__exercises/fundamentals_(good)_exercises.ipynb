{
 "cells": [
  {
   "cell_type": "markdown",
   "id": "d71a85fc",
   "metadata": {},
   "source": [
    "<div style=\"text-align:left;font-size:2em\"><span style=\"font-weight:bolder;font-size:1.25em\">SP2273 | Learning Portfolio</span><br><br><span style=\"font-weight:bold;color:darkred\">Fundamentals (Good) Exercises</span></div>"
   ]
  },
  {
   "cell_type": "code",
   "execution_count": 1,
   "id": "1cf7b435-974d-4ddb-91fa-55935b5d967b",
   "metadata": {},
   "outputs": [
    {
     "name": "stdin",
     "output_type": "stream",
     "text": [
      "Please provide me with a number? 54\n"
     ]
    },
    {
     "name": "stdout",
     "output_type": "stream",
     "text": [
      "You entered 54\n"
     ]
    }
   ],
   "source": [
    "user_input = input('Please provide me with a number?')\n",
    "print('You entered', user_input)"
   ]
  },
  {
   "cell_type": "markdown",
   "id": "347074f5-ce42-41ad-bcc2-338398d75f78",
   "metadata": {},
   "source": [
    "### Task 1"
   ]
  },
  {
   "cell_type": "code",
   "execution_count": 17,
   "id": "c2052670-3424-496e-b536-f2c87fa38daf",
   "metadata": {},
   "outputs": [
    {
     "name": "stdin",
     "output_type": "stream",
     "text": [
      "Please provide me with a name! :) Santhosh\n"
     ]
    },
    {
     "name": "stdout",
     "output_type": "stream",
     "text": [
      "\"How you doin' Santhosh!\"\n"
     ]
    }
   ],
   "source": [
    "user_input = input('Please provide me with a name! :)')\n",
    "print(f\"\\\"How you doin' {user_input}!\\\"\")"
   ]
  },
  {
   "cell_type": "markdown",
   "id": "21fd7cde-9573-4711-a873-a30dd4a39e8d",
   "metadata": {},
   "source": [
    "### Task 2"
   ]
  },
  {
   "cell_type": "code",
   "execution_count": 18,
   "id": "1714ca68-935a-46dd-83f4-fd5f62a763bf",
   "metadata": {},
   "outputs": [
    {
     "name": "stdin",
     "output_type": "stream",
     "text": [
      "Please provide me with a name! :) Santhosh\n",
      "Please provide me with your age ;) 21\n"
     ]
    },
    {
     "name": "stdout",
     "output_type": "stream",
     "text": [
      "\"My name is Santhosh and I am 21 years old.\"\n"
     ]
    }
   ],
   "source": [
    "user_input = input('Please provide me with a name! :)')\n",
    "user_input2 = input('Please provide me with your age ;)')\n",
    "print(f\"\\\"My name is {user_input} and I am {user_input2} years old.\\\"\")"
   ]
  },
  {
   "cell_type": "markdown",
   "id": "ea1f326c-8cf8-4204-958b-a078c5ef1496",
   "metadata": {},
   "source": [
    "### Task 3"
   ]
  },
  {
   "cell_type": "code",
   "execution_count": 21,
   "id": "2324dc27-3683-4ec0-96ed-98d4d832519c",
   "metadata": {},
   "outputs": [
    {
     "name": "stdout",
     "output_type": "stream",
     "text": [
      "The value of pi to 2 decimal places is: 3.14\n",
      "The value of pi to 2 decimal places is: 3.142\n",
      "The value of pi to 2 decimal places is: 3.1416\n"
     ]
    }
   ],
   "source": [
    "pi = 3.141592653589793\n",
    "print(f\"The value of pi to 2 decimal places is: {pi:.2f}\")\n",
    "print(f\"The value of pi to 2 decimal places is: {pi:.3f}\")\n",
    "print(f\"The value of pi to 2 decimal places is: {pi:.4f}\")"
   ]
  },
  {
   "cell_type": "markdown",
   "id": "577b06ad-d245-4c6b-a794-36c364bc861f",
   "metadata": {},
   "source": [
    "### Task 4"
   ]
  },
  {
   "cell_type": "code",
   "execution_count": 62,
   "id": "2ef14f04-9578-4ad9-b5d4-f8566d6535ff",
   "metadata": {},
   "outputs": [
    {
     "name": "stdout",
     "output_type": "stream",
     "text": [
      "Apple      $ 0.99\n",
      "Banana     $ 0.59\n",
      "Orange     $ 1.29\n"
     ]
    }
   ],
   "source": [
    "fruit = ['Apple', 'Banana', 'Orange']\n",
    "price = ['$ 0.99', '$ 0.59', '$ 1.29']\n",
    "print(f\"{fruit[0]} {price[0]:>11}\" '\\n' f\"{fruit[1]} {price[1]:>10}\" '\\n' f\"{fruit[2]} {price[2]:>10}\")"
   ]
  },
  {
   "cell_type": "code",
   "execution_count": 101,
   "id": "4bd633cf-2aca-46e2-9d78-556f8fe4fc63",
   "metadata": {},
   "outputs": [
    {
     "name": "stdout",
     "output_type": "stream",
     "text": [
      "Apple      $ 0.99\n",
      "Banana     $ 0.59\n",
      "Orange     $ 1.29\n"
     ]
    }
   ],
   "source": [
    "fruit = ['Apple', 'Banana', 'Orange']\n",
    "price = ['$ 0.99', '$ 0.59', '$ 1.29']\n",
    "print(f\"{fruit[0]:<10s} {price[0]}\" '\\n' f\"{fruit[1]:<10s} {price[1]}\" '\\n' f\"{fruit[2]:<10s} {price[2]}\")"
   ]
  },
  {
   "cell_type": "markdown",
   "id": "3bdafbf3-9592-497f-ad86-186c80872c32",
   "metadata": {},
   "source": [
    "## Exercise 2"
   ]
  },
  {
   "cell_type": "code",
   "execution_count": 74,
   "id": "b1f85c88-8053-4575-ae7b-46d06215220e",
   "metadata": {},
   "outputs": [
    {
     "name": "stdin",
     "output_type": "stream",
     "text": [
      "Enter the student's score:  100\n"
     ]
    },
    {
     "name": "stdout",
     "output_type": "stream",
     "text": [
      "The student's letter grade is: A\n"
     ]
    }
   ],
   "source": [
    "score = int(input(\"Enter the student's score: \"))\n",
    "if 70 <= score <= 100:\n",
    "    grade = 'A'\n",
    "elif 50 <= score < 70:\n",
    "    grade = 'B'\n",
    "elif 35 <= score < 50:\n",
    "    grade = 'C'\n",
    "elif 0 <= score < 35:\n",
    "    grade = 'Fail'\n",
    "else:\n",
    "    grade = 'Please check your score and ensure it is a numerical value between 0 to 100.'\n",
    "\n",
    "print(\"The student's letter grade is:\", grade)"
   ]
  },
  {
   "cell_type": "markdown",
   "id": "2da9a1cb-5502-40a6-b451-6fd9713c4341",
   "metadata": {},
   "source": [
    "## Exercise 3"
   ]
  },
  {
   "cell_type": "code",
   "execution_count": 83,
   "id": "7a28e783-3bc7-461f-981c-02263e01df72",
   "metadata": {},
   "outputs": [
    {
     "name": "stdout",
     "output_type": "stream",
     "text": [
      "120\n",
      "Invalid input\n"
     ]
    }
   ],
   "source": [
    "def factorial(n):\n",
    "    if n < 0:\n",
    "        return \"Invalid input\"\n",
    "    elif n == 0:\n",
    "        return 1\n",
    "    else:\n",
    "        result = 1\n",
    "        for number in range(1, n+1):\n",
    "            result *= number\n",
    "        return result\n",
    "\n",
    "\n",
    "print(factorial(5))   # Testing, expected output: 120\n",
    "print(factorial(-1))  # Testing, expected output: Invalid input"
   ]
  }
 ],
 "metadata": {
  "kernelspec": {
   "display_name": "Python 3 (ipykernel)",
   "language": "python",
   "name": "python3"
  },
  "language_info": {
   "codemirror_mode": {
    "name": "ipython",
    "version": 3
   },
   "file_extension": ".py",
   "mimetype": "text/x-python",
   "name": "python",
   "nbconvert_exporter": "python",
   "pygments_lexer": "ipython3",
   "version": "3.12.3"
  },
  "toc": {
   "base_numbering": 1,
   "nav_menu": {},
   "number_sections": true,
   "sideBar": true,
   "skip_h1_title": false,
   "title_cell": "Table of Contents",
   "title_sidebar": "Contents",
   "toc_cell": false,
   "toc_position": {},
   "toc_section_display": true,
   "toc_window_display": false
  },
  "vscode": {
   "interpreter": {
    "hash": "31f2aee4e71d21fbe5cf8b01ff0e069b9275f58929596ceb00d14d90e3e16cd6"
   }
  }
 },
 "nbformat": 4,
 "nbformat_minor": 5
}
