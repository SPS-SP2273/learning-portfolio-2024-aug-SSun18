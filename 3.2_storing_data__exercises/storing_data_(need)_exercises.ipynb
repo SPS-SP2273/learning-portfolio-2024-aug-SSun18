{
 "cells": [
  {
   "attachments": {},
   "cell_type": "markdown",
   "id": "123456",
   "metadata": {},
   "source": [
    "<div style=\"text-align:left;font-size:2em\"><span style=\"font-weight:bolder;font-size:1.25em\">SP2273 | Learning Portfolio</span><br><br><span style=\"font-weight:bold;color:darkred\">Storing Data (Need) Exercises</span></div>"
   ]
  },
  {
   "cell_type": "code",
   "execution_count": 3,
   "id": "491eac14-5915-41e0-8366-eb90b8894144",
   "metadata": {},
   "outputs": [],
   "source": [
    "import numpy as np"
   ]
  },
  {
   "cell_type": "markdown",
   "id": "7455f88b-bc60-4e43-aa90-3ddcfc84277c",
   "metadata": {},
   "source": [
    "## Exercise 1"
   ]
  },
  {
   "cell_type": "markdown",
   "id": "b49bc816-bf3e-4aed-9eb9-a90e45c702e0",
   "metadata": {},
   "source": [
    "#### Similarities"
   ]
  },
  {
   "cell_type": "markdown",
   "id": "c22c251d-d4ed-4de7-a95f-40c77390c7ae",
   "metadata": {},
   "source": [
    "1) list and arrays are both used to input data in a list form\n",
    "2) They can both be in 1D, 2D or 3D format, and share the same indexing technique"
   ]
  },
  {
   "cell_type": "markdown",
   "id": "ab0c3355-037f-4310-a22a-4d7c3b56bad1",
   "metadata": {},
   "source": [
    "#### Differences"
   ]
  },
  {
   "cell_type": "markdown",
   "id": "7d18ea2f-382f-4cab-aab6-34e468b46a85",
   "metadata": {},
   "source": [
    "1. When doing arithmetics on lists, the entire list is duplicated or similar; on arrays, the individual elements undergo mathematic tabulation leaving behind a tabulated value in the array\n",
    "2. *Lists can deal with different types of data, array can only handle one type in one array*"
   ]
  },
  {
   "cell_type": "markdown",
   "id": "7c46cf01-66e8-4155-9a41-608cac5e01e4",
   "metadata": {},
   "source": [
    "## Exercise 2"
   ]
  },
  {
   "cell_type": "code",
   "execution_count": 1,
   "id": "c31e7ad9-35ac-4fd1-aa4b-306a5e304810",
   "metadata": {},
   "outputs": [
    {
     "name": "stdout",
     "output_type": "stream",
     "text": [
      "a1\n",
      "c3\n",
      "e5\n",
      "g7\n",
      "i9\n"
     ]
    }
   ],
   "source": [
    "py_list = [\"a1\", \"b2\", \"c3\", \"d4\", \"e5\", \"f6\", \"g7\", \"h8\", \"i9\", \"j10\"]\n",
    "print(py_list[0])   # Prints 'a1'\n",
    "print(py_list[2])   # Prints 'c3'\n",
    "print(py_list[4])   # Prints 'e5'\n",
    "print(py_list[6])   # Prints 'g7'\n",
    "print(py_list[8])   # Prints 'i9'"
   ]
  },
  {
   "cell_type": "markdown",
   "id": "7f956cf8-4d8e-4149-9a37-6db08a7bf767",
   "metadata": {},
   "source": [
    "## Exercise 3"
   ]
  },
  {
   "cell_type": "code",
   "execution_count": 4,
   "id": "0486569d-b410-43c3-bb6d-d619ea983ec6",
   "metadata": {},
   "outputs": [
    {
     "name": "stdout",
     "output_type": "stream",
     "text": [
      "Boron\n",
      "Boron\n"
     ]
    }
   ],
   "source": [
    "elements = ['Hydrogen',\n",
    "            'Helium', 'Lithium',\n",
    "            'Beryllium', 'Boron', 'Carbon',\n",
    "            'Nitrogen', 'Oxygen',\n",
    "            'Fluorine',\n",
    "            'Neon']\n",
    "print(elements[4])\n",
    "print(elements[-6])"
   ]
  },
  {
   "cell_type": "markdown",
   "id": "85c26e1d-23f8-4828-ad67-72189c0f6ac3",
   "metadata": {},
   "source": [
    "## Exercise 4"
   ]
  },
  {
   "cell_type": "code",
   "execution_count": 10,
   "id": "e6d2acfe-fd50-41cf-939b-ecc0e047fd53",
   "metadata": {},
   "outputs": [
    {
     "data": {
      "text/plain": [
       "np.int64(9)"
      ]
     },
     "execution_count": 10,
     "metadata": {},
     "output_type": "execute_result"
    }
   ],
   "source": [
    "numbers=[45, 60, 1, 30, 96, 1, 96, 57, 16, 1,\n",
    "        99, 62, 86, 43, 42, 60, 59, 1, 1, 35,\n",
    "        83, 47, 34, 28, 68, 23, 22, 92, 1, 79,\n",
    "        1, 29, 94, 72, 46, 47, 1, 74, 32, 20,\n",
    "        8, 37, 35, 1, 89, 29, 86, 19, 43, 61]                  \n",
    "\n",
    "np_numbers = ( np.array(numbers) == 1 )\n",
    "np_numbers.sum()"
   ]
  },
  {
   "cell_type": "markdown",
   "id": "7da67660-fe8e-4d7b-9190-02e7feda98ad",
   "metadata": {},
   "source": [
    "## Exercise 5"
   ]
  },
  {
   "cell_type": "code",
   "execution_count": 21,
   "id": "cc25dad0-2a18-4b20-be56-7af2219df38c",
   "metadata": {},
   "outputs": [
    {
     "name": "stdout",
     "output_type": "stream",
     "text": [
      "mean of x1: 38.5\n",
      "mean of x2: 302.5\n",
      "std of x1: 32.41990129534635\n",
      "std of x2: 326.0893282522444\n",
      "0.9871796626270701\n",
      "[[1.         0.98717966]\n",
      " [0.98717966 1.        ]]\n"
     ]
    }
   ],
   "source": [
    "x_1 = np.array([1, 4, 9, 16, 25, 36, 49, 64, 81, 100])\n",
    "x_2 = np.array([1, 8, 27, 64, 125, 216, 343, 512, 729, 1000])\n",
    "print(\"mean of x1:\", np.mean(x_1))\n",
    "print(\"mean of x2:\", np.mean(x_2))\n",
    "print(\"std of x1:\", np.std(x_1))\n",
    "print(\"std of x2:\", np.std(x_2))\n",
    "\n",
    "r = np.sum((x_1-np.mean(x_1))*(x_2-np.mean(x_2))) / np.sqrt(np.sum((x_1-np.mean(x_1))**2)*np.sum((x_2-np.mean(x_2))**2))\n",
    "real_r = np.corrcoef(x_1, x_2)\n",
    "print(r)\n",
    "print(real_r)"
   ]
  }
 ],
 "metadata": {
  "kernelspec": {
   "display_name": "Python 3 (ipykernel)",
   "language": "python",
   "name": "python3"
  },
  "language_info": {
   "codemirror_mode": {
    "name": "ipython",
    "version": 3
   },
   "file_extension": ".py",
   "mimetype": "text/x-python",
   "name": "python",
   "nbconvert_exporter": "python",
   "pygments_lexer": "ipython3",
   "version": "3.12.3"
  },
  "toc": {
   "base_numbering": 1,
   "nav_menu": {},
   "number_sections": true,
   "sideBar": true,
   "skip_h1_title": false,
   "title_cell": "Table of Contents",
   "title_sidebar": "Contents",
   "toc_cell": false,
   "toc_position": {},
   "toc_section_display": true,
   "toc_window_display": false
  },
  "vscode": {
   "interpreter": {
    "hash": "31f2aee4e71d21fbe5cf8b01ff0e069b9275f58929596ceb00d14d90e3e16cd6"
   }
  }
 },
 "nbformat": 4,
 "nbformat_minor": 5
}
