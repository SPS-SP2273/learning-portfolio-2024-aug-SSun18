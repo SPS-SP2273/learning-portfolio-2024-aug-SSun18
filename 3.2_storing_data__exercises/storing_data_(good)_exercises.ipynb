{
 "cells": [
  {
   "attachments": {},
   "cell_type": "markdown",
   "id": "123456",
   "metadata": {},
   "source": [
    "<div style=\"text-align:left;font-size:2em\"><span style=\"font-weight:bolder;font-size:1.25em\">SP2273 | Learning Portfolio</span><br><br><span style=\"font-weight:bold;color:darkred\">Storing Data (Good) Exercises</span></div>"
   ]
  },
  {
   "cell_type": "code",
   "execution_count": 1,
   "id": "b5b104ff-d6ff-4850-8c6e-0e65ccf213ae",
   "metadata": {},
   "outputs": [],
   "source": [
    "import numpy as np"
   ]
  },
  {
   "cell_type": "markdown",
   "id": "2d15e837-4d8b-4919-b1cd-e6c674bed2c2",
   "metadata": {},
   "source": [
    "## Exercise 1"
   ]
  },
  {
   "cell_type": "markdown",
   "id": "a244a098-7415-4e05-ba91-606b1d68d51a",
   "metadata": {},
   "source": [
    "| **Term**   | **Brief description**                                        |\n",
    "|------------|--------------------------------------------------------------|\n",
    "| Subsetting | Subsetting refers to selecting                               |\n",
    "| Indexing   | Selecting single elements                                    |\n",
    "| Slicing    | Selecting multiple elements                                  |\n",
    "| Masking    | Removing one entire segment of an array to keep what remains |"
   ]
  },
  {
   "cell_type": "markdown",
   "id": "d4bcd504-a7d3-4e32-b328-9b930f94102c",
   "metadata": {},
   "source": [
    "## Exercise 2"
   ]
  },
  {
   "cell_type": "code",
   "execution_count": 15,
   "id": "2c46d3d9-9d80-4637-b458-e288b00d4761",
   "metadata": {},
   "outputs": [
    {
     "name": "stdout",
     "output_type": "stream",
     "text": [
      "['A' 'C' 'E' 'G' 'I']\n"
     ]
    }
   ],
   "source": [
    "np_array_2d = np.array([[1, \"A\"], [3, \"C\"], [2, \"B\"], [4, \"D\"],\n",
    "                        [5, \"E\"], [7, \"G\"], [6, \"F\"], [8, \"H\"],\n",
    "                        [10, \"J\"], [9, \"I\"]])\n",
    "np_array_1d = np_array_2d[:, 0]\n",
    "array_int = np_array_1d.astype(int)\n",
    "array_int %= 2\n",
    "array_odd_int = (array_int == True)\n",
    "array_odd_alp = np_array_2d[array_odd_int]\n",
    "print(array_odd_alp[:, 1])"
   ]
  },
  {
   "cell_type": "markdown",
   "id": "b4d8cc3f-9019-4ec9-a639-00d2fba8c913",
   "metadata": {},
   "source": [
    "## Exercise 3"
   ]
  },
  {
   "cell_type": "code",
   "execution_count": 26,
   "id": "18ef82a8-f490-47bb-9d8c-2c340b91c08e",
   "metadata": {},
   "outputs": [
    {
     "name": "stdout",
     "output_type": "stream",
     "text": [
      "[[ 1  0  1 -1 -1]\n",
      " [ 1 -1  1 -1 -1]\n",
      " [ 1 -1 -1  1 -1]\n",
      " [-1  1  1 -1 -1]\n",
      " [ 1 -1  1 -1  1]]\n"
     ]
    }
   ],
   "source": [
    "array_main = np.array([[66, 50, 57, -1, -1],\n",
    " [92, -1, 88, -1, -1],\n",
    " [75, -1, -1, 76, -1],\n",
    " [-1, 51, 87, -1, -1],\n",
    " [71, -1, 67, -1, 69]])\n",
    "array_below = array_main < 50\n",
    "array_below = array_below.astype(int)*(-1)\n",
    "array_above = array_main > 50\n",
    "array_above = array_above.astype(int)\n",
    "array_final = array_above + array_below\n",
    "\n",
    "print(array_final)"
   ]
  }
 ],
 "metadata": {
  "kernelspec": {
   "display_name": "Python 3 (ipykernel)",
   "language": "python",
   "name": "python3"
  },
  "language_info": {
   "codemirror_mode": {
    "name": "ipython",
    "version": 3
   },
   "file_extension": ".py",
   "mimetype": "text/x-python",
   "name": "python",
   "nbconvert_exporter": "python",
   "pygments_lexer": "ipython3",
   "version": "3.12.3"
  },
  "toc": {
   "base_numbering": 1,
   "nav_menu": {},
   "number_sections": true,
   "sideBar": true,
   "skip_h1_title": false,
   "title_cell": "Table of Contents",
   "title_sidebar": "Contents",
   "toc_cell": false,
   "toc_position": {},
   "toc_section_display": true,
   "toc_window_display": false
  },
  "vscode": {
   "interpreter": {
    "hash": "31f2aee4e71d21fbe5cf8b01ff0e069b9275f58929596ceb00d14d90e3e16cd6"
   }
  }
 },
 "nbformat": 4,
 "nbformat_minor": 5
}
