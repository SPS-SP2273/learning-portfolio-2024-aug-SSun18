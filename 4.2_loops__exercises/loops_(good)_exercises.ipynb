{
 "cells": [
  {
   "attachments": {},
   "cell_type": "markdown",
   "id": "123456",
   "metadata": {},
   "source": [
    "<div style=\"text-align:left;font-size:2em\"><span style=\"font-weight:bolder;font-size:1.25em\">SP2273 | Learning Portfolio</span><br><br><span style=\"font-weight:bold;color:darkred\">Loops (Good) Exercises</span></div>"
   ]
  },
  {
   "cell_type": "markdown",
   "id": "a86fee63-0ec7-47a4-a2c8-982b31fca65c",
   "metadata": {},
   "source": [
    "## Exercise 1"
   ]
  },
  {
   "cell_type": "code",
   "execution_count": 45,
   "id": "2dfbe16f-3046-4ebe-b4e8-353aa7689082",
   "metadata": {},
   "outputs": [
    {
     "name": "stdout",
     "output_type": "stream",
     "text": [
      "[1, 9, 25, 49, 81]\n"
     ]
    }
   ],
   "source": [
    "odd_numbers = []\n",
    "for number in range(0, 10):\n",
    "    if number % 2 == 0:\n",
    "        continue\n",
    "    number *= number\n",
    "    odd_numbers.append(number)\n",
    "print(odd_numbers)"
   ]
  },
  {
   "cell_type": "markdown",
   "id": "e88c2bc8-0c4b-4a6c-8bba-762f1975d4bf",
   "metadata": {},
   "source": [
    "## Exercise 2"
   ]
  },
  {
   "cell_type": "code",
   "execution_count": 26,
   "id": "2d196ace-b08d-421a-9460-beaaf511ce04",
   "metadata": {},
   "outputs": [
    {
     "data": {
      "text/plain": [
       "[1, 9, 25, 49, 81]"
      ]
     },
     "execution_count": 26,
     "metadata": {},
     "output_type": "execute_result"
    }
   ],
   "source": [
    "[number**2 for number in range(0, 10) if number % 2 == 1]"
   ]
  },
  {
   "cell_type": "markdown",
   "id": "0eb8c842-c566-41d8-bae7-0bb8d64906b7",
   "metadata": {},
   "source": [
    "## Exercise 3"
   ]
  },
  {
   "cell_type": "code",
   "execution_count": 48,
   "id": "b5987db0-caf2-4875-a40b-387e6b1d63d7",
   "metadata": {},
   "outputs": [
    {
     "name": "stdout",
     "output_type": "stream",
     "text": [
      "1.96 μs ± 38.7 ns per loop (mean ± std. dev. of 7 runs, 1,000,000 loops each)\n"
     ]
    }
   ],
   "source": [
    "%%timeit\n",
    "odd_numbers = []\n",
    "for number in range(0, 10):\n",
    "    if number % 2 == 0:\n",
    "        continue\n",
    "    number *= number\n",
    "    odd_numbers.append(number)"
   ]
  },
  {
   "cell_type": "code",
   "execution_count": 49,
   "id": "41949c5e-e7f5-4b0d-ab9e-8dd5a268756a",
   "metadata": {},
   "outputs": [
    {
     "name": "stdout",
     "output_type": "stream",
     "text": [
      "2 μs ± 216 ns per loop (mean ± std. dev. of 7 runs, 100,000 loops each)\n"
     ]
    }
   ],
   "source": [
    "%%timeit\n",
    "[number**2 for number in range(0, 10) if number % 2 == 1]"
   ]
  },
  {
   "cell_type": "markdown",
   "id": "5619a653-4d3d-4f1d-9127-80fb80197397",
   "metadata": {},
   "source": [
    "The for loop is faster than the list comprehension method, hence it is probably more efficient."
   ]
  },
  {
   "cell_type": "markdown",
   "id": "e52b3a2d-121f-4f8d-9d14-a6659445ccab",
   "metadata": {},
   "source": [
    "## Exercise 4"
   ]
  },
  {
   "cell_type": "code",
   "execution_count": 36,
   "id": "01904551-16fd-411e-8cf5-16b22369ffdc",
   "metadata": {},
   "outputs": [
    {
     "name": "stdout",
     "output_type": "stream",
     "text": [
      "14\n"
     ]
    }
   ],
   "source": [
    "numberofyears = 0\n",
    "units = 100\n",
    "while units > 50:\n",
    "    units *= 0.95\n",
    "    numberofyears += 1\n",
    "print(numberofyears)"
   ]
  },
  {
   "cell_type": "markdown",
   "id": "bb0a8ae0-cc6b-44d3-bc2b-122ca5aa5aa9",
   "metadata": {},
   "source": [
    "## Exercise 5"
   ]
  },
  {
   "cell_type": "code",
   "execution_count": 40,
   "id": "0069ec13-8263-4954-8aa2-7125d83409ad",
   "metadata": {},
   "outputs": [
    {
     "name": "stdout",
     "output_type": "stream",
     "text": [
      "2016 3.410000000000025\n"
     ]
    }
   ],
   "source": [
    "co2_data = [\n",
    "    (2000, 369.55), (2001, 371.14), (2002, 373.28), \n",
    "    (2003, 375.80), (2004, 377.52), (2005, 379.80), \n",
    "    (2006, 381.90), (2007, 383.79), (2008, 385.60), \n",
    "    (2009, 387.43), (2010, 389.90), (2011, 391.65), \n",
    "    (2012, 393.85), (2013, 396.52), (2014, 398.65),\n",
    "    (2015, 400.83), (2016, 404.24), (2017, 406.55), \n",
    "    (2018, 408.52), (2019, 411.44), (2020, 414.24)\n",
    "]\n",
    "\n",
    "co2_prevyear = 369.55\n",
    "\n",
    "for  year, CO2 in co2_data:\n",
    "    increase = CO2 - co2_prevyear\n",
    "    if increase >= 3:\n",
    "        print(year, increase)\n",
    "    co2_prevyear = CO2"
   ]
  }
 ],
 "metadata": {
  "kernelspec": {
   "display_name": "Python 3 (ipykernel)",
   "language": "python",
   "name": "python3"
  },
  "language_info": {
   "codemirror_mode": {
    "name": "ipython",
    "version": 3
   },
   "file_extension": ".py",
   "mimetype": "text/x-python",
   "name": "python",
   "nbconvert_exporter": "python",
   "pygments_lexer": "ipython3",
   "version": "3.12.3"
  },
  "toc": {
   "base_numbering": 1,
   "nav_menu": {},
   "number_sections": true,
   "sideBar": true,
   "skip_h1_title": false,
   "title_cell": "Table of Contents",
   "title_sidebar": "Contents",
   "toc_cell": false,
   "toc_position": {},
   "toc_section_display": true,
   "toc_window_display": false
  },
  "vscode": {
   "interpreter": {
    "hash": "31f2aee4e71d21fbe5cf8b01ff0e069b9275f58929596ceb00d14d90e3e16cd6"
   }
  }
 },
 "nbformat": 4,
 "nbformat_minor": 5
}
