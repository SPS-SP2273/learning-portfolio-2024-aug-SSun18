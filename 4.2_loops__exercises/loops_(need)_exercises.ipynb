{
 "cells": [
  {
   "attachments": {},
   "cell_type": "markdown",
   "id": "123456",
   "metadata": {},
   "source": [
    "<div style=\"text-align:left;font-size:2em\"><span style=\"font-weight:bolder;font-size:1.25em\">SP2273 | Learning Portfolio</span><br><br><span style=\"font-weight:bold;color:darkred\">Loops (Need) Exercises</span></div>"
   ]
  },
  {
   "cell_type": "markdown",
   "id": "981de9cb-7b8f-47e7-acb5-24003b301dfd",
   "metadata": {},
   "source": [
    "## Exercise 1"
   ]
  },
  {
   "cell_type": "code",
   "execution_count": 12,
   "id": "8690a65e-0102-438c-a6fe-bf35c34346fd",
   "metadata": {},
   "outputs": [
    {
     "name": "stdout",
     "output_type": "stream",
     "text": [
      "Celsius : 0 \n",
      " Fahrenheit : 32.0 \n",
      " \n",
      "Celsius : 5 \n",
      " Fahrenheit : 41.0 \n",
      " \n",
      "Celsius : 10 \n",
      " Fahrenheit : 50.0 \n",
      " \n",
      "Celsius : 15 \n",
      " Fahrenheit : 59.0 \n",
      " \n",
      "Celsius : 20 \n",
      " Fahrenheit : 68.0 \n",
      " \n",
      "Celsius : 25 \n",
      " Fahrenheit : 77.0 \n",
      " \n",
      "Celsius : 30 \n",
      " Fahrenheit : 86.0 \n",
      " \n",
      "Celsius : 35 \n",
      " Fahrenheit : 95.0 \n",
      " \n",
      "Celsius : 40 \n",
      " Fahrenheit : 104.0 \n",
      " \n",
      "Celsius : 45 \n",
      " Fahrenheit : 113.0 \n",
      " \n",
      "Celsius : 50 \n",
      " Fahrenheit : 122.0 \n",
      " \n"
     ]
    }
   ],
   "source": [
    "import numpy as np\n",
    "\n",
    "temperatures_celsius = [\n",
    "    0, 5, 10, 15, 20, 25,\n",
    "    30, 35, 40, 45, 50\n",
    "]\n",
    "\n",
    "temperatures_fahrenheit = np.array(temperatures_celsius)*(9/5) + 32\n",
    "\n",
    "for index, celsius in enumerate(temperatures_celsius):\n",
    "    fahrenheit = temperatures_fahrenheit[index]\n",
    "    print(f'Celsius : {celsius} \\n Fahrenheit : {fahrenheit} \\n ')"
   ]
  },
  {
   "cell_type": "markdown",
   "id": "a703dc01-b1f3-4509-8e5c-69452aadbf88",
   "metadata": {},
   "source": [
    "## Exercise 2"
   ]
  },
  {
   "cell_type": "code",
   "execution_count": 13,
   "id": "fcfc3ffe-b8e4-467e-94ae-5e732c50a25d",
   "metadata": {},
   "outputs": [
    {
     "name": "stdout",
     "output_type": "stream",
     "text": [
      "A1\tA2\tA3\t\n",
      "\n",
      "B1\tB2\tB3\t\n",
      "\n",
      "C1\tC2\tC3\t\n",
      "\n"
     ]
    }
   ],
   "source": [
    "for letter in ['A', 'B', 'C']:\n",
    "    for number in [1, 2, 3]:\n",
    "        print(f'{letter}{number}', end='\\t')\n",
    "    print('\\n')"
   ]
  },
  {
   "cell_type": "code",
   "execution_count": 18,
   "id": "4bc28e9e-9c58-4252-a17c-9aff3c325edc",
   "metadata": {},
   "outputs": [
    {
     "name": "stdout",
     "output_type": "stream",
     "text": [
      "1 : \t1\t2\t3\t4\t5\t\n",
      "\n",
      "2 : \t2\t4\t6\t8\t10\t\n",
      "\n",
      "3 : \t3\t6\t9\t12\t15\t\n",
      "\n",
      "4 : \t4\t8\t12\t16\t20\t\n",
      "\n",
      "5 : \t5\t10\t15\t20\t25\t\n",
      "\n"
     ]
    }
   ],
   "source": [
    "for number in range(1, 6):\n",
    "    print(f'{number} : ', end='\\t')\n",
    "    for xfactor in range(1, 6):\n",
    "        print(f'{number*xfactor}', end= '\\t')\n",
    "    print('\\n')"
   ]
  },
  {
   "cell_type": "markdown",
   "id": "2db08288-a991-4862-911e-0b4f3ba9beea",
   "metadata": {},
   "source": [
    "## Exercise 3"
   ]
  },
  {
   "cell_type": "code",
   "execution_count": 20,
   "id": "c0a314ab-9f65-4877-80c9-d8673599e0ee",
   "metadata": {},
   "outputs": [
    {
     "data": {
      "text/plain": [
       "array([0.68761176, 0.07856811, 0.64784634, 0.17039027, 0.11106707,\n",
       "       0.99220232, 0.96460362, 0.94618492, 0.2997729 , 0.00379964])"
      ]
     },
     "execution_count": 20,
     "metadata": {},
     "output_type": "execute_result"
    }
   ],
   "source": [
    "np.random.rand(10)"
   ]
  },
  {
   "cell_type": "code",
   "execution_count": 29,
   "id": "a5ff7511-4a59-49c7-96ab-d038b7d358dc",
   "metadata": {},
   "outputs": [
    {
     "name": "stdout",
     "output_type": "stream",
     "text": [
      "Experiment 1: No. of Heads = 5\n",
      "Experiment 2: No. of Heads = 6\n",
      "Experiment 3: No. of Heads = 6\n",
      "Experiment 4: No. of Heads = 3\n",
      "Experiment 5: No. of Heads = 3\n",
      "Experiment 6: No. of Heads = 5\n",
      "Experiment 7: No. of Heads = 5\n",
      "Experiment 8: No. of Heads = 4\n",
      "Experiment 9: No. of Heads = 6\n",
      "Experiment 10: No. of Heads = 3\n"
     ]
    }
   ],
   "source": [
    "for experiment in range(1, 11):\n",
    "    randarray = np.random.rand(10)\n",
    "    headarray = randarray > 0.5\n",
    "    print(f'Experiment {experiment}: No. of Heads = {len(randarray[headarray])}')"
   ]
  }
 ],
 "metadata": {
  "kernelspec": {
   "display_name": "Python 3 (ipykernel)",
   "language": "python",
   "name": "python3"
  },
  "language_info": {
   "codemirror_mode": {
    "name": "ipython",
    "version": 3
   },
   "file_extension": ".py",
   "mimetype": "text/x-python",
   "name": "python",
   "nbconvert_exporter": "python",
   "pygments_lexer": "ipython3",
   "version": "3.12.3"
  },
  "toc": {
   "base_numbering": 1,
   "nav_menu": {},
   "number_sections": true,
   "sideBar": true,
   "skip_h1_title": false,
   "title_cell": "Table of Contents",
   "title_sidebar": "Contents",
   "toc_cell": false,
   "toc_position": {},
   "toc_section_display": true,
   "toc_window_display": false
  },
  "vscode": {
   "interpreter": {
    "hash": "31f2aee4e71d21fbe5cf8b01ff0e069b9275f58929596ceb00d14d90e3e16cd6"
   }
  }
 },
 "nbformat": 4,
 "nbformat_minor": 5
}
